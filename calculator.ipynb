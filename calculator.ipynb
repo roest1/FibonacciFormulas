{
 "cells": [
  {
   "cell_type": "code",
   "execution_count": 2,
   "metadata": {},
   "outputs": [],
   "source": [
    "import math as m"
   ]
  },
  {
   "attachments": {},
   "cell_type": "markdown",
   "metadata": {},
   "source": [
    "### N'th Fibonacci number"
   ]
  },
  {
   "cell_type": "code",
   "execution_count": 3,
   "metadata": {},
   "outputs": [],
   "source": [
    "phi = (1 + m.sqrt(5)) / 2\n",
    "def nth_fib(n) : \n",
    "    return int((m.pow(phi, n) - (-m.pow(phi, -n))) / m.sqrt(5))"
   ]
  },
  {
   "attachments": {},
   "cell_type": "markdown",
   "metadata": {},
   "source": [
    "### Number of nodes in a fibonacci forest of k trees\n",
    "$$\\sum_{i = 0}^{k} \\frac{\\phi^{(i + 3)}-(-\\phi)^{-(i + 3)}}{\\sqrt{5}} -  1$$"
   ]
  },
  {
   "cell_type": "code",
   "execution_count": 4,
   "metadata": {},
   "outputs": [],
   "source": [
    "def nodes_inKtrees(k): \n",
    "    sum = 0\n",
    "    while k >= 0:\n",
    "       sum += nth_fib(k + 3) - 1\n",
    "       k -= 1\n",
    "    return sum"
   ]
  },
  {
   "attachments": {},
   "cell_type": "markdown",
   "metadata": {},
   "source": [
    "### Number of edges in a fibonacci forest of k trees\n",
    "$$[\\sum_{i = 0}^{k} \\frac{\\phi^{(i + 3)}-(-\\phi)^{-(i + 3)}}{\\sqrt{5}} -  1] - (k + 1)$$"
   ]
  },
  {
   "cell_type": "code",
   "execution_count": 5,
   "metadata": {},
   "outputs": [],
   "source": [
    "def edges_inKtrees(k):\n",
    "    return nodes_inKtrees(k) - (k + 1)"
   ]
  },
  {
   "cell_type": "code",
   "execution_count": 6,
   "metadata": {},
   "outputs": [
    {
     "name": "stdout",
     "output_type": "stream",
     "text": [
      "14\n",
      "10\n"
     ]
    }
   ],
   "source": [
    "print(nodes_inKtrees(3))\n",
    "print(edges_inKtrees(3))"
   ]
  }
 ],
 "metadata": {
  "kernelspec": {
   "display_name": "Python 3.10.7 ('.venv': venv)",
   "language": "python",
   "name": "python3"
  },
  "language_info": {
   "codemirror_mode": {
    "name": "ipython",
    "version": 3
   },
   "file_extension": ".py",
   "mimetype": "text/x-python",
   "name": "python",
   "nbconvert_exporter": "python",
   "pygments_lexer": "ipython3",
   "version": "3.10.7 (v3.10.7:6cc6b13308, Sep  5 2022, 14:02:52) [Clang 13.0.0 (clang-1300.0.29.30)]"
  },
  "orig_nbformat": 4,
  "vscode": {
   "interpreter": {
    "hash": "9ead29b0f1af7b90c0bcd4d6f4d5dc7eb4d0f7484da08976622f8642b7fab71a"
   }
  }
 },
 "nbformat": 4,
 "nbformat_minor": 2
}
